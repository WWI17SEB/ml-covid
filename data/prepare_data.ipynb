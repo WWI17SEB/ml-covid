{
 "cells": [
  {
   "cell_type": "markdown",
   "metadata": {},
   "source": [
    "# Covid Data Preparation\n",
    "\n",
    "In diesem Notebook werden die Daten aufbereitet."
   ]
  },
  {
   "cell_type": "markdown",
   "metadata": {},
   "source": [
    "## Imports and Files"
   ]
  },
  {
   "cell_type": "code",
   "execution_count": null,
   "metadata": {},
   "outputs": [],
   "source": [
    "import math\n",
    "import matplotlib.pyplot as plt\n",
    "import pandas as pd\n",
    "import seaborn as sns\n",
    "import numpy as np\n",
    "%matplotlib inline\n",
    "\n",
    "PATH_COLLECTED_DATA = './collected_data.csv'"
   ]
  },
  {
   "cell_type": "code",
   "execution_count": null,
   "metadata": {},
   "outputs": [],
   "source": [
    "# define function to help remove missing values\n",
    "def addNumberOfMissingValuesToDataframe(dataframe):\n",
    "    missing_values = []\n",
    "    for i in range(len(dataframe.index)):\n",
    "        missing_values.append(dataframe.iloc[i].isnull().sum())\n",
    "    dataframe['missing_values'] = missing_values\n",
    "    return dataframe"
   ]
  },
  {
   "cell_type": "code",
   "execution_count": null,
   "metadata": {
    "tags": []
   },
   "outputs": [],
   "source": [
    "# read data\n",
    "df = pd.read_csv(PATH_COLLECTED_DATA)\n",
    "\n",
    "df.drop(['Female share of employment in senior and middle management (%)','Firms with female participation in ownership (% of firms)', 'Women who were first married by age 18 (% of women ages 20-24)', 'International tourism, number of departures', 'overweight_in_percent', 'stunting_in_percent', 'underweight_in_percent'],inplace=True, axis=1)\n",
    "\n",
    "print(df.shape)\n",
    "fig, ax = plt.subplots(figsize=(20,5))\n",
    "sns.heatmap(data = df.isnull(), yticklabels=False, cbar=False, cmap='viridis', ax=ax)"
   ]
  },
  {
   "cell_type": "code",
   "execution_count": null,
   "metadata": {},
   "outputs": [],
   "source": [
    "# correlation and removal\n",
    "corr = df.loc[:, ['di_score', 'di_electoral_process_and_pluralism', 'di_functioning_of_government', 'di_political_participation', 'di_political_culture', 'di_civil_liberties', 'household_avg_people', 'household_members_1', 'household_members_2_3', 'household_members_4_5', 'household_members_6_or_more']].corr()\n",
    "corr.style.background_gradient(cmap='coolwarm').set_precision(2)\n",
    "\n",
    "plt.figure(figsize=(12,10))\n",
    "sns.heatmap(corr, annot=True, cmap=plt.cm.Reds)\n",
    "plt.show()"
   ]
  },
  {
   "cell_type": "code",
   "execution_count": null,
   "metadata": {},
   "outputs": [],
   "source": [
    "# drop di values because of correlation\n",
    "# drop household values because of correlation\n",
    "df.drop(['di_electoral_process_and_pluralism', 'di_functioning_of_government', 'di_political_participation', 'di_political_culture', 'di_civil_liberties', 'di_regime_type', 'household_members_1', 'household_members_2_3', 'household_members_4_5', 'household_members_6_or_more'],inplace=True, axis=1)\n",
    "\n",
    "corr = df.corr()\n",
    "\n",
    "corr.style.background_gradient(cmap='coolwarm').set_precision(2)"
   ]
  },
  {
   "cell_type": "code",
   "execution_count": null,
   "metadata": {
    "tags": []
   },
   "outputs": [],
   "source": [
    "# delete columns with strong correlation\n",
    "df.drop(['GNI per capita, Atlas method (current US$)', 'GNI per capita, PPP (current international $)', 'GNI, PPP (current international $)', 'GDP growth (annual %)', 'handwashing_facilities', 'International tourism, expenditures (current US$)', 'International tourism, number of arrivals', 'International tourism, receipts (current US$)'], inplace=True, axis=1)\n",
    "\n",
    "corr = df.corr()\n",
    "\n",
    "corr.style.background_gradient(cmap='coolwarm').set_precision(2)"
   ]
  },
  {
   "cell_type": "code",
   "execution_count": null,
   "metadata": {
    "tags": []
   },
   "outputs": [],
   "source": [
    "# combine female and male values\n",
    "FEMALE_RATIO = 0.495\n",
    "MALE_RATIO = 1 - FEMALE_RATIO\n",
    "\n",
    "# 'female_smokers', 'male_smokers', 'Life expectancy at birth, female (years)', 'Life expectancy at birth, male (years)', 'Wage and salaried workers, female (% of female employment) (modeled ILO estimate)', 'Wage and salaried workers, male (% of male employment) (modeled ILO estimate)', 'Mortality rate, adult, female (per 1,000 female adults)', 'Mortality rate, adult, male (per 1,000 male adults)'\n",
    "df['smokers_percentage'] = FEMALE_RATIO * df['female_smokers'] + MALE_RATIO * df['male_smokers']\n",
    "df['life_expectancy_at_birth'] = FEMALE_RATIO * df['Life expectancy at birth, female (years)'] + MALE_RATIO * df['Life expectancy at birth, male (years)']\n",
    "df['wage_and_salaried_workers_percentage_employed'] = FEMALE_RATIO * df['Wage and salaried workers, female (% of female employment) (modeled ILO estimate)'] + MALE_RATIO * df['Wage and salaried workers, male (% of male employment) (modeled ILO estimate)']\n",
    "df['mortality_rate_per_1000'] = FEMALE_RATIO * df['Mortality rate, adult, female (per 1,000 female adults)'] + MALE_RATIO * df['Mortality rate, adult, male (per 1,000 male adults)']\n",
    "\n",
    "\n",
    "# mortality rate and life expectancy strongly correlate -> drop mortality_rate_per_1000\n",
    "# same with wage_and_salaried_workers_percentage_employed -> drop life_expectancy_at_birth because workers have a high probabilty of contact with others\n",
    "\n",
    "df.drop(['female_smokers', 'male_smokers', 'Life expectancy at birth, female (years)', 'Life expectancy at birth, male (years)', 'Wage and salaried workers, female (% of female employment) (modeled ILO estimate)', 'Wage and salaried workers, male (% of male employment) (modeled ILO estimate)', 'Mortality rate, adult, female (per 1,000 female adults)', 'Mortality rate, adult, male (per 1,000 male adults)', 'mortality_rate_per_1000', 'life_expectancy_at_birth'], inplace=True, axis=1)\n",
    "\n",
    "corr = df.corr()\n",
    "\n",
    "corr.style.background_gradient(cmap='coolwarm').set_precision(2)"
   ]
  },
  {
   "cell_type": "code",
   "execution_count": null,
   "metadata": {},
   "outputs": [],
   "source": [
    "# replenish rows missing only some values"
   ]
  },
  {
   "cell_type": "code",
   "execution_count": null,
   "metadata": {},
   "outputs": [],
   "source": [
    "# delete colums missing to many values\n",
    "addNumberOfMissingValuesToDataframe(df)\n",
    "treshold = 10\n",
    "df = df[df.missing_values < treshold]"
   ]
  }
 ],
 "metadata": {
  "language_info": {
   "codemirror_mode": {
    "name": "ipython",
    "version": 3
   },
   "file_extension": ".py",
   "mimetype": "text/x-python",
   "name": "python",
   "nbconvert_exporter": "python",
   "pygments_lexer": "ipython3",
   "version": 3
  },
  "orig_nbformat": 2,
  "kernelspec": {
   "name": "python_defaultSpec_1594033866009",
   "display_name": "Python 3.7.7 64-bit"
  }
 },
 "nbformat": 4,
 "nbformat_minor": 2
}