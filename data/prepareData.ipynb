{
 "cells": [
  {
   "cell_type": "markdown",
   "metadata": {},
   "source": [
    "# COVID Data Preparation\n",
    "\n",
    "## Imports and File Paths"
   ]
  },
  {
   "cell_type": "code",
   "execution_count": 1,
   "metadata": {},
   "outputs": [],
   "source": [
    "import math\n",
    "import matplotlib.pyplot as plt\n",
    "import pandas as pd\n",
    "import seaborn as sns\n",
    "%matplotlib inline"
   ]
  },
  {
   "cell_type": "code",
   "execution_count": 2,
   "metadata": {},
   "outputs": [],
   "source": [
    "FILE_PATH_OWID_COVID_CSV = \"./raw/covid-19-data/public/data/owid-covid-data.csv\"\n",
    "FILE_PATH_WHO_DOCTORS = \"./raw/who-datasets/Medical doctors (per 10,000).csv\"\n",
    "FILE_PATH_GHS_INDEX = \"./raw/ghs-index/Global Health Security Index (Overall Score).csv\"\n",
    "FILE_PATH_WORLDBANK_HEALTH_EXPENDITURE = \"./raw/worldbank-datasets/Current health expenditure (% of GDP).csv\""
   ]
  },
  {
   "cell_type": "markdown",
   "metadata": {},
   "source": [
    "## COVID Numbers per Country"
   ]
  },
  {
   "cell_type": "code",
   "execution_count": 3,
   "metadata": {},
   "outputs": [],
   "source": [
    "df = pd.read_csv(FILE_PATH_OWID_COVID_CSV)\n",
    "df = df[(df.iso_code != 'OWID_WRL') & (df.total_cases.notnull())].sort_values('date', ascending=False).groupby('iso_code').first().reset_index()\n",
    "df = df.loc[:, ['iso_code','continent','location','date','total_cases','total_deaths','total_cases_per_million','aged_70_older','gdp_per_capita','extreme_poverty','cvd_death_rate','diabetes_prevalence','female_smokers','male_smokers','handwashing_facilities']]"
   ]
  },
  {
   "cell_type": "code",
   "execution_count": 4,
   "metadata": {
    "tags": []
   },
   "outputs": [
    {
     "name": "stdout",
     "output_type": "stream",
     "text": [
      "  iso_code      continent     location        date  total_cases  total_deaths  \\\n",
      "0      ABW  North America        Aruba  2020-06-23        101.0           3.0   \n",
      "1      AFG           Asia  Afghanistan  2020-06-23      29143.0         598.0   \n",
      "2      AGO         Africa       Angola  2020-06-23        183.0           9.0   \n",
      "3      AIA  North America     Anguilla  2020-06-23          3.0           0.0   \n",
      "4      ALB         Europe      Albania  2020-06-23       1995.0          44.0   \n",
      "\n",
      "   total_cases_per_million  aged_70_older  gdp_per_capita  extreme_poverty  \\\n",
      "0                  945.994          7.452       35973.781              NaN   \n",
      "1                  748.632          1.337        1803.987              NaN   \n",
      "2                    5.568          1.362        5819.495              NaN   \n",
      "3                  199.973            NaN             NaN              NaN   \n",
      "4                  693.238          8.643       11803.431              1.1   \n",
      "\n",
      "   cvd_death_rate  diabetes_prevalence  female_smokers  male_smokers  \\\n",
      "0             NaN                11.62             NaN           NaN   \n",
      "1         597.029                 9.59             NaN           NaN   \n",
      "2         276.045                 3.94             NaN           NaN   \n",
      "3             NaN                  NaN             NaN           NaN   \n",
      "4         304.195                10.08             7.1          51.2   \n",
      "\n",
      "   handwashing_facilities  \n",
      "0                     NaN  \n",
      "1                  37.746  \n",
      "2                  26.664  \n",
      "3                     NaN  \n",
      "4                     NaN  \n"
     ]
    }
   ],
   "source": [
    "print(df.head())"
   ]
  },
  {
   "cell_type": "code",
   "execution_count": null,
   "metadata": {
    "scrolled": false,
    "tags": []
   },
   "outputs": [
    {
     "name": "stdout",
     "output_type": "stream",
     "text": [
      "(209, 15)\n"
     ]
    },
    {
     "data": {
      "text/plain": [
       "<matplotlib.axes._subplots.AxesSubplot at 0x1a3e753a5c0>"
      ]
     },
     "execution_count": 5,
     "metadata": {},
     "output_type": "execute_result"
    }
   ],
   "source": [
    "print(df.shape)\n",
    "sns.heatmap(data = df.isnull(), yticklabels=False, cbar=False, cmap='viridis')"
   ]
  },
  {
   "cell_type": "markdown",
   "metadata": {},
   "source": [
    "## WHO Medical Doctors per Country"
   ]
  },
  {
   "cell_type": "code",
   "execution_count": null,
   "metadata": {
    "tags": []
   },
   "outputs": [],
   "source": [
    "df_doctors = pd.read_csv(FILE_PATH_WHO_DOCTORS)\n",
    "df_doctors.rename(columns={'Location':'location','Period':'year','First Tooltip':'medical_doctors'}, inplace=True)\n",
    "df_doctors = df_doctors.loc[:, ['location','medical_doctors']]\n",
    "\n",
    "def rename_countries_doctors(country):\n",
    "    mapping = { 'Bolivia (Plurinational State of)':'Bolivia', 'Brunei Darussalam':'Brunei',\n",
    "               'Cabo Verde':'Cape Verde', 'Eswatini':'Swaziland',\n",
    "               'Côte d’Ivoire':'Cote d\\'Ivoire', 'Czechia':'Czech Republic',\n",
    "               'Democratic Republic of the Congo':'Democratic Republic of Congo',\n",
    "               'Iran (Islamic Republic of)':'Iran',\n",
    "               'Lao People\\'s Democratic Republic':'Laos',\n",
    "               'The former Yugoslav Republic of Macedonia':'Macedonia',\n",
    "               'Republic of Moldova':'Moldova', 'Russian Federation':'Russia',\n",
    "               'Republic of Korea':'South Korea', 'Syrian Arab Republic':'Syria',\n",
    "               'United Kingdom of Great Britain and Northern Ireland':'United Kingdom',\n",
    "               'United States of America':'United States',\n",
    "               'United Republic of Tanzania':'Tanzania', 'Viet Nam':'Vietnam',\n",
    "               'Venezuela (Bolivarian Republic of)':'Venezuela',\n",
    "              }\n",
    "    if (country in mapping):\n",
    "        return mapping[country]\n",
    "    return country\n",
    "\n",
    "df_doctors['location'] = df_doctors['location'].apply(lambda x: rename_countries_doctors(x))\n",
    "\n",
    "df = df.merge(df_doctors, how = 'left', on = ['location'])"
   ]
  },
  {
   "cell_type": "markdown",
   "metadata": {},
   "source": [
    "## Global Health Security Index per Country"
   ]
  },
  {
   "cell_type": "code",
   "execution_count": null,
   "metadata": {
    "tags": []
   },
   "outputs": [],
   "source": [
    "df_ghs = pd.read_csv(FILE_PATH_GHS_INDEX)\n",
    "\n",
    "df_ghs.rename(columns={'country':'location', 'ghs_score':'ghs_score'}, inplace=True)\n",
    "df_ghs = df_ghs.loc[:, ['location','ghs_score']]\n",
    "\n",
    "df = df.merge(df_ghs, how = 'left', on = ['location'])\n",
    "\n",
    "print(df.shape)\n",
    "sns.heatmap(data = df.isnull(), yticklabels=False, cbar=False, cmap='viridis')"
   ]
  },
  {
   "cell_type": "markdown",
   "metadata": {},
   "source": [
    "## Current Health Expenditure per Country"
   ]
  },
  {
   "cell_type": "code",
   "execution_count": null,
   "metadata": {},
   "outputs": [],
   "source": [
    "df_health_exprenditure = pd.read_csv(FILE_PATH_WORLDBANK_HEALTH_EXPENDITURE)\n",
    "\n",
    "years = [2017, 2016, 2015, 2014, 2013]\n",
    "\n",
    "countries = []\n",
    "health_expenditure_5y_avg = []\n",
    "for index, row in df_health_exprenditure.iterrows():\n",
    "    values = []\n",
    "    for year in years:\n",
    "        value = row[str(year)]\n",
    "        if (math.isnan(value)):\n",
    "            break\n",
    "        values.append(value)\n",
    "    if (len(values) == len(years)):\n",
    "        countries.append(row[\"Country Code\"])\n",
    "        health_expenditure_5y_avg.append(sum(values)/len(values))\n",
    "\n",
    "df_health_exprenditure_5y_avg = pd.DataFrame({\n",
    "    'iso_code': countries,\n",
    "    'health_expenditure_5y_avg': health_expenditure_5y_avg,\n",
    "})\n",
    "\n",
    "df = df.merge(df_health_exprenditure_5y_avg, how = 'left', on = ['iso_code'])\n",
    "\n",
    "print(df.shape)\n",
    "sns.heatmap(data = df.isnull(), yticklabels=False, cbar=False, cmap='viridis')"
   ]
  }
 ],
 "metadata": {
  "kernelspec": {
   "display_name": "Python 3",
   "language": "python",
   "name": "python3"
  },
  "language_info": {
   "codemirror_mode": {
    "name": "ipython",
    "version": 3
   },
   "file_extension": ".py",
   "mimetype": "text/x-python",
   "name": "python",
   "nbconvert_exporter": "python",
   "pygments_lexer": "ipython3",
   "version": "3.6.8"
  }
 },
 "nbformat": 4,
 "nbformat_minor": 2
}
