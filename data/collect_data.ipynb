{
 "cells": [
  {
   "cell_type": "markdown",
   "metadata": {},
   "source": [
    "# COVID Data Collection\n",
    "\n",
    "In diesem Notebook werden die einzelnen Rohdaten aus verschiedenen Quellen zusammengeführt und in einer CSV-Datei gespeichert.\n",
    "Die Datenaufbereitung und -selektion findet in einem weiteren Notebook statt."
   ]
  },
  {
   "cell_type": "markdown",
   "metadata": {},
   "source": [
    "## Imports and File Paths"
   ]
  },
  {
   "cell_type": "code",
   "execution_count": null,
   "metadata": {},
   "outputs": [],
   "source": [
    "import math\n",
    "import matplotlib.pyplot as plt\n",
    "import pandas as pd\n",
    "import seaborn as sns\n",
    "%matplotlib inline"
   ]
  },
  {
   "cell_type": "code",
   "execution_count": null,
   "metadata": {},
   "outputs": [],
   "source": [
    "FILE_PATH_OWID_COVID_CSV = \"./raw/covid-19-data/public/data/owid-covid-data.csv\"\n",
    "FILE_PATH_WHO_DOCTORS = \"./raw/who-datasets/Medical doctors (per 10,000).csv\"\n",
    "FILE_PATH_GHS_INDEX = \"./raw/ghs-index/Global Health Security Index (Overall Score).csv\"\n",
    "FILE_PATH_WORLDBANK_HEALTH_EXPENDITURE = \"./raw/worldbank-datasets/Current health expenditure (% of GDP).csv\"\n",
    "FILE_PATH_WORLDBANK_GDP = \"./raw/worldbank-datasets/GDP.csv\"\n",
    "FILE_PATH_WORLDBANK_DEVELOPMENT = \"./raw/worldbank-datasets/Development.csv\"\n",
    "FILE_PATH_WORLDBANK_POVERTY = \"./raw/worldbank-datasets/Poverty.csv\"\n",
    "FILE_PATH_WORLDBANK_POVERTY2 = \"./raw/worldbank-datasets/Poverty2.csv\"\n",
    "FILE_PATH_KAGGLE_MALNUTRITION = \"./raw/kaggle-datasets/malnutrition.csv\"\n",
    "FILE_PATH_KAGGLE_LOCKDOWN = \"./raw/kaggle-datasets/countryLockdowndates.csv\"\n",
    "FILE_PATH_WORLDBANK_MORTALITY = \"./raw/worldbank-datasets/Mortality.csv\"\n",
    "FILE_PATH_WORLDBANK_TRAVEL_TOURISM = \"./raw/worldbank-datasets/TravelAndTourism.csv\"\n",
    "FILE_PATH_DEMOCRACY_INDEX = \"./raw/democracy-index/Democracy Index (2019).csv\"\n",
    "FILE_PATH_UN_HOUSEHOLDS = \"./raw/un/households.csv\""
   ]
  },
  {
   "cell_type": "markdown",
   "metadata": {},
   "source": [
    "## COVID Numbers per Country"
   ]
  },
  {
   "cell_type": "code",
   "execution_count": null,
   "metadata": {},
   "outputs": [],
   "source": [
    "df = pd.read_csv(FILE_PATH_OWID_COVID_CSV)\n",
    "df = df[(df.iso_code != 'OWID_WRL') & (df.total_cases.notnull())].sort_values(\n",
    "                'date', ascending=False).groupby('iso_code').first().reset_index()\n",
    "df = df.loc[:, ['iso_code','continent','location','date','total_cases','total_deaths',\n",
    "                'total_cases_per_million','aged_70_older','gdp_per_capita','extreme_poverty',\n",
    "                'cvd_death_rate','diabetes_prevalence','female_smokers','male_smokers','handwashing_facilities']]"
   ]
  },
  {
   "cell_type": "code",
   "execution_count": null,
   "metadata": {
    "tags": []
   },
   "outputs": [],
   "source": [
    "print(df.head())"
   ]
  },
  {
   "cell_type": "code",
   "execution_count": null,
   "metadata": {
    "scrolled": false,
    "tags": []
   },
   "outputs": [],
   "source": [
    "print(df.shape)\n",
    "sns.heatmap(data = df.isnull(), yticklabels=False, cbar=False, cmap='viridis')"
   ]
  },
  {
   "cell_type": "markdown",
   "metadata": {},
   "source": [
    "## WHO Medical Doctors per Country"
   ]
  },
  {
   "cell_type": "code",
   "execution_count": null,
   "metadata": {
    "tags": []
   },
   "outputs": [],
   "source": [
    "df_doctors = pd.read_csv(FILE_PATH_WHO_DOCTORS)\n",
    "df_doctors.rename(columns={'Location':'location','Period':'year','First Tooltip':'medical_doctors'}, inplace=True)\n",
    "df_doctors = df_doctors.loc[:, ['location','medical_doctors']]\n",
    "\n",
    "def rename_countries_doctors(country):\n",
    "    mapping = { 'Bolivia (Plurinational State of)':'Bolivia', 'Brunei Darussalam':'Brunei',\n",
    "               'Cabo Verde':'Cape Verde', 'Eswatini':'Swaziland',\n",
    "               'Côte d’Ivoire':'Cote d\\'Ivoire', 'Czechia':'Czech Republic',\n",
    "               'Democratic Republic of the Congo':'Democratic Republic of Congo',\n",
    "               'Iran (Islamic Republic of)':'Iran',\n",
    "               'Lao People\\'s Democratic Republic':'Laos',\n",
    "               'The former Yugoslav Republic of Macedonia':'Macedonia',\n",
    "               'Republic of Moldova':'Moldova', 'Russian Federation':'Russia',\n",
    "               'Republic of Korea':'South Korea', 'Syrian Arab Republic':'Syria',\n",
    "               'United Kingdom of Great Britain and Northern Ireland':'United Kingdom',\n",
    "               'United States of America':'United States',\n",
    "               'United Republic of Tanzania':'Tanzania', 'Viet Nam':'Vietnam',\n",
    "               'Venezuela (Bolivarian Republic of)':'Venezuela',\n",
    "              }\n",
    "    if (country in mapping):\n",
    "        return mapping[country]\n",
    "    return country\n",
    "\n",
    "df_doctors['location'] = df_doctors['location'].apply(lambda x: rename_countries_doctors(x))\n",
    "\n",
    "df = df.merge(df_doctors, how = 'left', on = ['location'])"
   ]
  },
  {
   "cell_type": "markdown",
   "metadata": {},
   "source": [
    "## Global Health Security Index per Country"
   ]
  },
  {
   "cell_type": "code",
   "execution_count": null,
   "metadata": {
    "tags": []
   },
   "outputs": [],
   "source": [
    "df_ghs = pd.read_csv(FILE_PATH_GHS_INDEX)\n",
    "\n",
    "df_ghs.rename(columns={'country':'location', 'ghs_score':'ghs_score'}, inplace=True)\n",
    "df_ghs = df_ghs.loc[:, ['location','ghs_score']]\n",
    "\n",
    "df = df.merge(df_ghs, how = 'left', on = ['location'])\n",
    "\n",
    "print(df.shape)\n",
    "sns.heatmap(data = df.isnull(), yticklabels=False, cbar=False, cmap='viridis')"
   ]
  },
  {
   "cell_type": "markdown",
   "metadata": {},
   "source": [
    "## Current Health Expenditure per Country"
   ]
  },
  {
   "cell_type": "code",
   "execution_count": null,
   "metadata": {
    "tags": []
   },
   "outputs": [],
   "source": [
    "df_health_expenditure = pd.read_csv(FILE_PATH_WORLDBANK_HEALTH_EXPENDITURE)\n",
    "\n",
    "years = [2017, 2016, 2015, 2014, 2013]\n",
    "\n",
    "countries = []\n",
    "health_expenditure_5y_avg = []\n",
    "for index, row in df_health_expenditure.iterrows():\n",
    "    values = []\n",
    "    for year in years:\n",
    "        value = row[str(year)]\n",
    "        if (math.isnan(value)):\n",
    "            break\n",
    "        values.append(value)\n",
    "    if (len(values) == len(years)):\n",
    "        countries.append(row[\"Country Code\"])\n",
    "        health_expenditure_5y_avg.append(sum(values)/len(values))\n",
    "\n",
    "df_health_exprenditure_5y_avg = pd.DataFrame({\n",
    "    'iso_code': countries,\n",
    "    'health_expenditure_5y_avg': health_expenditure_5y_avg,\n",
    "})\n",
    "\n",
    "df = df.merge(df_health_exprenditure_5y_avg, how = 'left', on = ['iso_code'])\n",
    "\n",
    "print(df.shape)\n",
    "sns.heatmap(data = df.isnull(), yticklabels=False, cbar=False, cmap='viridis')"
   ]
  },
  {
   "cell_type": "markdown",
   "metadata": {},
   "source": [
    "## World Bank - World Development Indicators"
   ]
  },
  {
   "cell_type": "code",
   "execution_count": null,
   "metadata": {
    "tags": []
   },
   "outputs": [],
   "source": [
    "df_wb_gdp = pd.read_csv(FILE_PATH_WORLDBANK_GDP)\n",
    "\n",
    "df_wb_gdp.rename(columns={'Country Name':'location', 'Country Code': 'iso_code'}, inplace=True)\n",
    "df_wb_gdp = df_wb_gdp.pivot_table(index=['iso_code'], columns='Series Name', values='2018 [YR2018]').reset_index()\n",
    "\n",
    "df = df.merge(df_wb_gdp, how = 'left', on = ['iso_code'])\n",
    "\n",
    "print(df.shape)\n",
    "fig, ax = plt.subplots(figsize=(15,5))\n",
    "sns.heatmap(data = df.isnull(), yticklabels=False, cbar=False, cmap='viridis', ax=ax)"
   ]
  },
  {
   "cell_type": "markdown",
   "metadata": {},
   "source": [
    "## World Bank - Development"
   ]
  },
  {
   "cell_type": "code",
   "execution_count": null,
   "metadata": {
    "tags": []
   },
   "outputs": [],
   "source": [
    "df_wb_dev = pd.read_csv(FILE_PATH_WORLDBANK_DEVELOPMENT)\n",
    "\n",
    "df_wb_dev.rename(columns={'Country Name':'location', 'Country Code': 'iso_code'}, inplace=True)\n",
    "df_wb_dev = df_wb_dev.pivot_table(index=['iso_code'], columns='Series Name', values='2018 [YR2018]').reset_index()\n",
    "\n",
    "df = df.merge(df_wb_dev, how = 'left', on = ['iso_code'])\n",
    "\n",
    "print(df.shape)\n",
    "fig, ax = plt.subplots(figsize=(20,5))\n",
    "sns.heatmap(data = df.isnull(), yticklabels=False, cbar=False, cmap='viridis', ax=ax)"
   ]
  },
  {
   "cell_type": "markdown",
   "metadata": {},
   "source": [
    "## Malnutrition per Country"
   ]
  },
  {
   "cell_type": "code",
   "execution_count": null,
   "metadata": {
    "tags": []
   },
   "outputs": [],
   "source": [
    "df_malnutrition_set = pd.read_csv(FILE_PATH_KAGGLE_MALNUTRITION)\n",
    "df_malnutrition = df_malnutrition_set.loc[:, ['Country', 'Overweight', 'Stunting', 'Underweight']]\n",
    "df_malnutrition['Country'] = df_malnutrition['Country'].apply(lambda x:x.title())\n",
    "df_malnutrition.rename(columns={'Country':'location', 'Overweight':'overweight_in_percent', 'Stunting':'stunting_in_percent', 'Underweight':'underweight_in_percent'}, inplace=True)\n",
    "print(df_malnutrition.shape)\n",
    "df = df.merge(df_malnutrition, how = 'left', on = ['location'])"
   ]
  },
  {
   "cell_type": "code",
   "execution_count": null,
   "metadata": {
    "tags": []
   },
   "outputs": [],
   "source": [
    "print(df.shape)\n",
    "fig, ax = plt.subplots(figsize=(20,5))\n",
    "sns.heatmap(data = df.isnull(), yticklabels=False, cbar=False, cmap='viridis', ax=ax)"
   ]
  },
  {
   "cell_type": "markdown",
   "metadata": {},
   "source": [
    "# World Bank - Mortality"
   ]
  },
  {
   "cell_type": "code",
   "execution_count": null,
   "metadata": {
    "tags": []
   },
   "outputs": [],
   "source": [
    "df_mortality_set = pd.read_csv(FILE_PATH_WORLDBANK_MORTALITY)\n",
    "df_mortality_set.rename(columns={'Country Name':'location', 'Country Code': 'iso_code'}, inplace=True)\n",
    "df_mortality = df_mortality_set.pivot_table(index=['iso_code'], columns='Series Name', values='2018 [YR2018]').reset_index()\n",
    "df_mortality = df_mortality.loc[:, ['iso_code', 'Mortality rate, adult, female (per 1,000 female adults)', 'Mortality rate, adult, male (per 1,000 male adults)']]\n",
    "print(df_mortality.shape)"
   ]
  },
  {
   "cell_type": "code",
   "execution_count": null,
   "metadata": {
    "tags": []
   },
   "outputs": [],
   "source": [
    "df = df.merge(df_mortality, how = 'left', on = ['iso_code'])\n",
    "print(df.shape)\n",
    "fig, ax = plt.subplots(figsize=(20,5))\n",
    "sns.heatmap(data = df.isnull(), yticklabels=False, cbar=False, cmap='viridis', ax=ax)"
   ]
  },
  {
   "cell_type": "markdown",
   "metadata": {},
   "source": [
    "# World Bank - Travel and Tourism"
   ]
  },
  {
   "cell_type": "code",
   "execution_count": null,
   "metadata": {
    "tags": []
   },
   "outputs": [],
   "source": [
    "df_travel_tourism_set = pd.read_csv(FILE_PATH_WORLDBANK_TRAVEL_TOURISM)\n",
    "df_travel_tourism_set.rename(columns={'Country Name':'location', 'Country Code': 'iso_code'}, inplace=True)\n",
    "df_travel_tourism = df_travel_tourism_set.pivot_table(index=['iso_code'], columns='Series Name', values='2018 [YR2018]').reset_index()\n",
    "print(df_travel_tourism.shape)"
   ]
  },
  {
   "cell_type": "code",
   "execution_count": null,
   "metadata": {
    "tags": []
   },
   "outputs": [],
   "source": [
    "df = df.merge(df_travel_tourism, how = 'left', on = ['iso_code'])\n",
    "\n",
    "print(df.shape)\n",
    "fig, ax = plt.subplots(figsize=(20,5))\n",
    "sns.heatmap(data = df.isnull(), yticklabels=False, cbar=False, cmap='viridis', ax=ax)"
   ]
  },
  {
   "cell_type": "markdown",
   "metadata": {},
   "source": [
    "## Lockdown_type and _date per Country"
   ]
  },
  {
   "cell_type": "code",
   "execution_count": null,
   "metadata": {},
   "outputs": [],
   "source": [
    "df_lockdown_set = pd.read_csv(FILE_PATH_KAGGLE_LOCKDOWN)\n",
    "# Generalize provinces of the countries and use earliest lockdown date\n",
    "df_lockdown_set = df_lockdown_set.sort_values('Date', ascending=True).groupby('Country/Region').first().reset_index()\n",
    "\n",
    "df_lockdown = df_lockdown_set.loc[:, ['Country/Region', 'Date', 'Type']]\n",
    "df_lockdown.rename(columns={'Country/Region':'location', 'Date':'lockdown_date', 'Type':'lockdown_type'}, inplace=True)"
   ]
  },
  {
   "cell_type": "code",
   "execution_count": null,
   "metadata": {
    "tags": []
   },
   "outputs": [],
   "source": [
    "df = df.merge(df_lockdown, how = 'left', on = ['location'])\n",
    "print(df.shape)\n",
    "fig, ax = plt.subplots(figsize=(20,5))\n",
    "sns.heatmap(data = df.isnull(), yticklabels=False, cbar=False, cmap='viridis', ax=ax)"
   ]
  },
  {
   "cell_type": "markdown",
   "metadata": {},
   "source": [
    "## Democracy Index"
   ]
  },
  {
   "cell_type": "code",
   "execution_count": null,
   "metadata": {},
   "outputs": [],
   "source": [
    "df_democracy_index = pd.read_csv(FILE_PATH_DEMOCRACY_INDEX)\n",
    "df_democracy_index.rename(columns={'country':'location','score':'di_score',\n",
    "                                   'electoral_process_and_pluralism':'di_electoral_process_and_pluralism',\n",
    "                                   'functioning_of_government':'di_functioning_of_government',\n",
    "                                   'political_participation':'di_political_participation',\n",
    "                                   'political_culture':'di_political_culture',\n",
    "                                   'civil_liberties':'di_civil_liberties',\n",
    "                                   'regime_type':'di_regime_type'}, inplace=True)\n",
    "\n",
    "def rename_countries_democracy_index(country):\n",
    "    mapping = { 'Timor-Leste': 'Timor', 'North Macedonia': 'Macedonia', 'Ivory Coast': \"Cote d'Ivoire\",\n",
    "               'Eswatini': 'Swaziland', 'Republic of the Congo': 'Congo',\n",
    "               'Democratic Republic of the Congo': 'Democratic Republic of Congo'\n",
    "              }\n",
    "    if (country in mapping):\n",
    "        return mapping[country]\n",
    "    return country\n",
    "\n",
    "df_democracy_index['location'] = df_democracy_index['location'].apply(lambda x: rename_countries_democracy_index(x))\n",
    "\n",
    "# find country names that need to be mapped\n",
    "countries_di = df_democracy_index['location'].values.tolist()\n",
    "countries_df = df['location'].values.tolist()\n",
    "countries_in_di_but_not_df, countries_in_df_but_not_di = [], []\n",
    "for country in countries_di:\n",
    "    if (country not in countries_df):\n",
    "        countries_in_di_but_not_df.append(country)\n",
    "for country in countries_df:\n",
    "    if (country not in countries_di):\n",
    "        countries_in_df_but_not_di.append(country)\n",
    "#print(\"countries in di that are not in df\", countries_in_di_but_not_df)\n",
    "#print(\"\\ncountries in df that are not in di\", countries_in_df_but_not_di)\n",
    "\n",
    "df = df.merge(df_democracy_index, how = 'left', on = ['location'])"
   ]
  },
  {
   "cell_type": "code",
   "execution_count": null,
   "metadata": {
    "tags": []
   },
   "outputs": [],
   "source": [
    "print(df.shape)\n",
    "fig, ax = plt.subplots(figsize=(20,5))\n",
    "sns.heatmap(data = df.isnull(), yticklabels=False, cbar=False, cmap='viridis', ax=ax)"
   ]
  },
  {
   "cell_type": "markdown",
   "metadata": {},
   "source": [
    "## Size of households"
   ]
  },
  {
   "cell_type": "code",
   "execution_count": null,
   "metadata": {
    "tags": []
   },
   "outputs": [],
   "source": [
    "df_households = pd.read_csv(FILE_PATH_UN_HOUSEHOLDS, sep=\";\", decimal=\",\")\n",
    "df_households.rename(columns={'iso':'iso_numeric','average':'household_avg_people',\n",
    "                             '1_member':'household_members_1',\n",
    "                             '2_3_members':'household_members_2_3',\n",
    "                              '4_5_members':'household_members_4_5',\n",
    "                              '6_or_more_members':'household_members_6_or_more'}, inplace=True)\n",
    "df_households = df_households.loc[:, ['iso_numeric','reference_date','household_avg_people','household_members_1','household_members_2_3','household_members_4_5','household_members_6_or_more']]\n",
    "df_households.dropna(inplace=True)\n",
    "\n",
    "def mapDate(d):\n",
    "    temp = d.split(\".\")\n",
    "    return temp[2] + \"-\" + temp[1] + \"-\" + temp[0]\n",
    "df_households['reference_date'] = df_households['reference_date'].apply(lambda d: mapDate(d))\n",
    "df_households = df_households.sort_values('reference_date', ascending=False).groupby('iso_numeric').first().reset_index()\n",
    "def mapIsoNumericToCode3(iso_numeric):\n",
    "    iso_numeric = int(iso_numeric)\n",
    "    mapping = {4: 'AFG', 248: 'ALA', 8: 'ALB', 12: 'DZA', 16: 'ASM', 20: 'AND', 24: 'AGO', 660: 'AIA', 10: 'ATA', 28: 'ATG', 32: 'ARG', 51: 'ARM', 533: 'ABW', 36: 'AUS', 40: 'AUT', 31: 'AZE', 44: 'BHS', 48: 'BHR', 50: 'BGD', 52: 'BRB', 112: 'BLR', 56: 'BEL', 84: 'BLZ', 204: 'BEN', 60: 'BMU', 64: 'BTN', 68: 'BOL', 535: 'BES', 70: 'BIH', 72: 'BWA', 74: 'BVT', 76: 'BRA', 86: 'IOT', 96: 'BRN', 100: 'BGR', 854: 'BFA', 108: 'BDI', 132: 'CPV', 116: 'KHM', 120: 'CMR', 124: 'CAN', 136: 'CYM', 140: 'CAF', 148: 'TCD', 152: 'CHL', 156: 'CHN', 162: 'CXR', 166: 'CCK', 170: 'COL', 174: 'COM', 180: 'COD', 178: 'COG', 184: 'COK', 188: 'CRI', 384: 'CIV', 191: 'HRV', 192: 'CUB', 531: 'CUW', 196: 'CYP', 203: 'CZE', 208: 'DNK', 262: 'DJI', 212: 'DMA', 214: 'DOM', 218: 'ECU', 818: 'EGY', 222: 'SLV', 226: 'GNQ', 232: 'ERI', 233: 'EST', 748: 'SWZ', 231: 'ETH', 238: 'FLK', 234: 'FRO', 242: 'FJI', 246: 'FIN', 250: 'FRA', 254: 'GUF', 258: 'PYF', 260: 'ATF', 266: 'GAB', 270: 'GMB', 268: 'GEO', 276: 'DEU', 288: 'GHA', 292: 'GIB', 300: 'GRC', 304: 'GRL', 308: 'GRD', 312: 'GLP', 316: 'GUM', 320: 'GTM', 831: 'GGY', 324: 'GIN', 624: 'GNB', 328: 'GUY', 332: 'HTI', 334: 'HMD', 336: 'VAT', 340: 'HND', 344: 'HKG', 348: 'HUN', 352: 'ISL', 356: 'IND', 360: 'IDN', 364: 'IRN', 368: 'IRQ', 372: 'IRL', 833: 'IMN', 376: 'ISR', 380: 'ITA', 388: 'JAM', 392: 'JPN', 832: 'JEY', 400: 'JOR', 398: 'KAZ', 404: 'KEN', 296: 'KIR', 408: 'PRK', 410: 'KOR', 414: 'KWT', 417: 'KGZ', 418: 'LAO', 428: 'LVA', 422: 'LBN', 426: 'LSO', 430: 'LBR', 434: 'LBY', 438: 'LIE', 440: 'LTU', 442: 'LUX', 446: 'MAC', 807: 'MKD', 450: 'MDG', 454: 'MWI', 458: 'MYS', 462: 'MDV', 466: 'MLI', 470: 'MLT', 584: 'MHL', 474: 'MTQ', 478: 'MRT', 480: 'MUS', 175: 'MYT', 484: 'MEX', 583: 'FSM', 498: 'MDA', 492: 'MCO', 496: 'MNG', 499: 'MNE', 500: 'MSR', 504: 'MAR', 508: 'MOZ', 104: 'MMR', 516: 'NAM', 520: 'NRU', 524: 'NPL', 528: 'NLD', 540: 'NCL', 554: 'NZL', 558: 'NIC', 562: 'NER', 566: 'NGA', 570: 'NIU', 574: 'NFK', 580: 'MNP', 578: 'NOR', 512: 'OMN', 586: 'PAK', 585: 'PLW', 275: 'PSE', 591: 'PAN', 598: 'PNG', 600: 'PRY', 604: 'PER', 608: 'PHL', 612: 'PCN', 616: 'POL', 620: 'PRT', 630: 'PRI', 634: 'QAT', 638: 'REU', 642: 'ROU', 643: 'RUS', 646: 'RWA', 652: 'BLM', 654: 'SHN', 659: 'KNA', 662: 'LCA', 663: 'MAF', 666: 'SPM', 670: 'VCT', 882: 'WSM', 674: 'SMR', 678: 'STP', 682: 'SAU', 686: 'SEN', 688: 'SRB', 690: 'SYC', 694: 'SLE', 702: 'SGP', 534: 'SXM', 703: 'SVK', 705: 'SVN', 90: 'SLB', 706: 'SOM', 710: 'ZAF', 239: 'SGS', 728: 'SSD', 724: 'ESP', 144: 'LKA', 729: 'SDN', 740: 'SUR', 744: 'SJM', 752: 'SWE', 756: 'CHE', 760: 'SYR', 158: 'TWN', 762: 'TJK', 834: 'TZA', 764: 'THA', 626: 'TLS', 768: 'TGO', 772: 'TKL', 776: 'TON', 780: 'TTO', 788: 'TUN', 792: 'TUR', 795: 'TKM', 796: 'TCA', 798: 'TUV', 800: 'UGA', 804: 'UKR', 784: 'ARE', 826: 'GBR', 581: 'UMI', 840: 'USA', 858: 'URY', 860: 'UZB', 548: 'VUT', 862: 'VEN', 704: 'VNM', 92: 'VGB', 850: 'VIR', 876: 'WLF', 732: 'ESH', 887: 'YEM', 894: 'ZMB', 716: 'ZWE'}\n",
    "    return mapping[iso_numeric]\n",
    "df_households['iso_code'] = df_households['iso_numeric'].apply(lambda n: mapIsoNumericToCode3(n))\n",
    "df_households = df_households.loc[:, ['iso_code','household_avg_people','household_members_1','household_members_2_3','household_members_4_5','household_members_6_or_more']]\n",
    "\n",
    "df = df.merge(df_households, how = 'left', on = ['iso_code'])"
   ]
  },
  {
   "cell_type": "code",
   "execution_count": null,
   "metadata": {
    "tags": []
   },
   "outputs": [],
   "source": [
    "print(df.shape)\n",
    "fig, ax = plt.subplots(figsize=(20,5))\n",
    "sns.heatmap(data = df.isnull(), yticklabels=False, cbar=False, cmap='viridis', ax=ax)"
   ]
  },
  {
   "cell_type": "markdown",
   "metadata": {},
   "source": [
    "## Als CSV speichern"
   ]
  },
  {
   "cell_type": "code",
   "execution_count": null,
   "metadata": {},
   "outputs": [],
   "source": [
    "df.to_csv('collected_data.csv', sep=',', encoding='utf-8')"
   ]
  }
 ],
 "metadata": {
  "kernelspec": {
   "display_name": "Python 3.7.7 64-bit",
   "language": "python",
   "name": "python_defaultSpec_1594037536026"
  },
  "language_info": {
   "codemirror_mode": {
    "name": "ipython",
    "version": 3
   },
   "file_extension": ".py",
   "mimetype": "text/x-python",
   "name": "python",
   "nbconvert_exporter": "python",
   "pygments_lexer": "ipython3",
   "version": "3.6.8"
  }
 },
 "nbformat": 4,
 "nbformat_minor": 2
}