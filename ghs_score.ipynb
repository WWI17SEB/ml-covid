{
 "cells": [
  {
   "cell_type": "markdown",
   "metadata": {},
   "source": [
    "# Compare GHS Index and Deaths\n",
    "\n",
    "After we failed with our other attempts, we wanted to take a look at the data we thought would be connceted.\n",
    "This is the GHS Index, representing how well prepared a country is for a pandemic, and its connection to the (reported) deaths."
   ]
  },
  {
   "cell_type": "code",
   "execution_count": 2,
   "metadata": {},
   "outputs": [],
   "source": [
    "import matplotlib.pyplot as plt\n",
    "import pandas as pd\n",
    "\n",
    "%matplotlib inline\n",
    "\n",
    "PATH_DATA_DEATHS = './data/computed/deaths.csv'\n",
    "PATH_DATA_CASES = './data/computed/cases.csv'\n",
    "PATH_DATA_REDUCED = './data/computed/collected_data_reduced_features.csv'"
   ]
  },
  {
   "cell_type": "code",
   "execution_count": 5,
   "metadata": {
    "scrolled": true
   },
   "outputs": [
    {
     "data": {
      "text/html": [
       "<div>\n",
       "<style scoped>\n",
       "    .dataframe tbody tr th:only-of-type {\n",
       "        vertical-align: middle;\n",
       "    }\n",
       "\n",
       "    .dataframe tbody tr th {\n",
       "        vertical-align: top;\n",
       "    }\n",
       "\n",
       "    .dataframe thead th {\n",
       "        text-align: right;\n",
       "    }\n",
       "</style>\n",
       "<table border=\"1\" class=\"dataframe\">\n",
       "  <thead>\n",
       "    <tr style=\"text-align: right;\">\n",
       "      <th></th>\n",
       "      <th>total_deaths_per_million</th>\n",
       "      <th>gdp_per_capita</th>\n",
       "      <th>cvd_death_rate</th>\n",
       "      <th>health_expenditure_5y_avg</th>\n",
       "      <th>total_cases_per_million</th>\n",
       "      <th>ghs_score</th>\n",
       "    </tr>\n",
       "  </thead>\n",
       "  <tbody>\n",
       "    <tr>\n",
       "      <th>count</th>\n",
       "      <td>162.000000</td>\n",
       "      <td>162.000000</td>\n",
       "      <td>162.00000</td>\n",
       "      <td>162.000000</td>\n",
       "      <td>162.000000</td>\n",
       "      <td>162.000000</td>\n",
       "    </tr>\n",
       "    <tr>\n",
       "      <th>mean</th>\n",
       "      <td>59.403907</td>\n",
       "      <td>19120.385994</td>\n",
       "      <td>252.38537</td>\n",
       "      <td>6.467686</td>\n",
       "      <td>1730.582481</td>\n",
       "      <td>42.945062</td>\n",
       "    </tr>\n",
       "    <tr>\n",
       "      <th>std</th>\n",
       "      <td>129.456628</td>\n",
       "      <td>19961.847637</td>\n",
       "      <td>115.81438</td>\n",
       "      <td>2.527267</td>\n",
       "      <td>3280.411748</td>\n",
       "      <td>13.960664</td>\n",
       "    </tr>\n",
       "    <tr>\n",
       "      <th>min</th>\n",
       "      <td>0.000000</td>\n",
       "      <td>661.240000</td>\n",
       "      <td>79.37000</td>\n",
       "      <td>2.224253</td>\n",
       "      <td>1.867000</td>\n",
       "      <td>16.200000</td>\n",
       "    </tr>\n",
       "    <tr>\n",
       "      <th>25%</th>\n",
       "      <td>2.494249</td>\n",
       "      <td>4626.697750</td>\n",
       "      <td>165.50250</td>\n",
       "      <td>4.500535</td>\n",
       "      <td>116.022000</td>\n",
       "      <td>32.525000</td>\n",
       "    </tr>\n",
       "    <tr>\n",
       "      <th>50%</th>\n",
       "      <td>10.697168</td>\n",
       "      <td>12265.791000</td>\n",
       "      <td>237.85550</td>\n",
       "      <td>6.305874</td>\n",
       "      <td>498.190500</td>\n",
       "      <td>40.450000</td>\n",
       "    </tr>\n",
       "    <tr>\n",
       "      <th>75%</th>\n",
       "      <td>41.361901</td>\n",
       "      <td>27592.496500</td>\n",
       "      <td>318.98050</td>\n",
       "      <td>8.157401</td>\n",
       "      <td>2077.662500</td>\n",
       "      <td>52.000000</td>\n",
       "    </tr>\n",
       "    <tr>\n",
       "      <th>max</th>\n",
       "      <td>848.052383</td>\n",
       "      <td>116935.600000</td>\n",
       "      <td>724.41700</td>\n",
       "      <td>16.795518</td>\n",
       "      <td>30684.193000</td>\n",
       "      <td>83.500000</td>\n",
       "    </tr>\n",
       "  </tbody>\n",
       "</table>\n",
       "</div>"
      ],
      "text/plain": [
       "       total_deaths_per_million  gdp_per_capita  cvd_death_rate  \\\n",
       "count                162.000000      162.000000       162.00000   \n",
       "mean                  59.403907    19120.385994       252.38537   \n",
       "std                  129.456628    19961.847637       115.81438   \n",
       "min                    0.000000      661.240000        79.37000   \n",
       "25%                    2.494249     4626.697750       165.50250   \n",
       "50%                   10.697168    12265.791000       237.85550   \n",
       "75%                   41.361901    27592.496500       318.98050   \n",
       "max                  848.052383   116935.600000       724.41700   \n",
       "\n",
       "       health_expenditure_5y_avg  total_cases_per_million   ghs_score  \n",
       "count                 162.000000               162.000000  162.000000  \n",
       "mean                    6.467686              1730.582481   42.945062  \n",
       "std                     2.527267              3280.411748   13.960664  \n",
       "min                     2.224253                 1.867000   16.200000  \n",
       "25%                     4.500535               116.022000   32.525000  \n",
       "50%                     6.305874               498.190500   40.450000  \n",
       "75%                     8.157401              2077.662500   52.000000  \n",
       "max                    16.795518             30684.193000   83.500000  "
      ]
     },
     "execution_count": 5,
     "metadata": {},
     "output_type": "execute_result"
    }
   ],
   "source": [
    "df = pd.read_csv(PATH_DATA_DEATHS)\n",
    "df_cases = pd.read_csv(PATH_DATA_CASES).loc[:, [\"location\", \"total_cases_per_million\"]]\n",
    "df = df.merge(df_cases, how = 'left', on = ['location'])\n",
    "df_ghs = pd.read_csv(PATH_DATA_REDUCED).loc[:, [\"location\", \"ghs_score\"]]\n",
    "df = df.merge(df_ghs, how = 'left', on = ['location'])\n",
    "df.drop([\"total_deaths\"], axis=1, inplace=True)\n",
    "#df.drop([\"total_cases\"], axis=1, inplace=True)\n",
    "df.dropna(inplace=True)\n",
    "df.describe()"
   ]
  },
  {
   "cell_type": "code",
   "execution_count": 6,
   "metadata": {
    "scrolled": false
   },
   "outputs": [
    {
     "data": {
      "text/plain": [
       "<matplotlib.collections.PathCollection at 0x137c8103b88>"
      ]
     },
     "execution_count": 6,
     "metadata": {},
     "output_type": "execute_result"
    },
    {
     "data": {
      "image/png": "[encoded data removed]",
      "text/plain": [
       "<Figure size 504x504 with 1 Axes>"
      ]
     },
     "metadata": {
      "needs_background": "light"
     },
     "output_type": "display_data"
    }
   ],
   "source": [
    "fig, ax = plt.subplots(1, figsize=(7,7))\n",
    "ax.scatter(df[\"ghs_score\"].values, df[\"total_deaths_per_million\"].values)"
   ]
  },
  {
   "cell_type": "markdown",
   "metadata": {},
   "source": [
    "We wanted to cluster the data, but this seems impossible based on the visualization.\n",
    "One reason for this may be countries with a low GHS Index, that may not be able to report valid numbers, or countries with a strategic interest in reporting false numbers or those who ascribe the deaths to other factors instead of COVID."
   ]
  },
  {
   "cell_type": "code",
   "execution_count": 7,
   "metadata": {},
   "outputs": [],
   "source": [
    "df = df[(df.ghs_score > 40) & (df.total_cases_per_million > 0)]\n",
    "df[\"deaths_per_cases\"] = df[\"total_deaths_per_million\"] / df[\"total_cases_per_million\"]"
   ]
  },
  {
   "cell_type": "code",
   "execution_count": 8,
   "metadata": {},
   "outputs": [
    {
     "data": {
      "text/plain": [
       "<matplotlib.collections.PathCollection at 0x137c8207d08>"
      ]
     },
     "execution_count": 8,
     "metadata": {},
     "output_type": "execute_result"
    },
    {
     "data": {
      "image/png": "[encoded data removed]",
      "text/plain": [
       "<Figure size 504x504 with 1 Axes>"
      ]
     },
     "metadata": {
      "needs_background": "light"
     },
     "output_type": "display_data"
    }
   ],
   "source": [
    "fig, ax = plt.subplots(1, figsize=(7,7))\n",
    "ax.scatter(df[\"ghs_score\"].values, df[\"deaths_per_cases\"].values)"
   ]
  }
 ],
 "metadata": {
  "kernelspec": {
   "display_name": "Python 3",
   "language": "python",
   "name": "python3"
  },
  "language_info": {
   "codemirror_mode": {
    "name": "ipython",
    "version": 3
   },
   "file_extension": ".py",
   "mimetype": "text/x-python",
   "name": "python",
   "nbconvert_exporter": "python",
   "pygments_lexer": "ipython3",
   "version": "3.7.7"
  }
 },
 "nbformat": 4,
 "nbformat_minor": 2
}
