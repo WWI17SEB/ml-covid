{
 "cells": [
  {
   "cell_type": "markdown",
   "metadata": {},
   "source": [
    "# Compare GHS Index and Deaths\n",
    "\n",
    "GHS Index says how well prepared a country is for a pandemic so we wanted to compare that with the actual deaths."
   ]
  },
  {
   "cell_type": "code",
   "execution_count": 1,
   "metadata": {},
   "outputs": [],
   "source": [
    "import matplotlib.pyplot as plt\n",
    "import pandas as pd\n",
    "\n",
    "%matplotlib inline\n",
    "\n",
    "PATH_DATA_DEATHS = './data/computed/deaths.csv'\n",
    "PATH_DATA_CASES = './data/computed/cases.csv'\n",
    "PATH_DATA_REDUCED = './data/computed/collected_data_reduced_features.csv'"
   ]
  },
  {
   "cell_type": "code",
   "execution_count": 2,
   "metadata": {
    "scrolled": true
   },
   "outputs": [
    {
     "data": {
      "text/html": [
       "<div>\n",
       "<style scoped>\n",
       "    .dataframe tbody tr th:only-of-type {\n",
       "        vertical-align: middle;\n",
       "    }\n",
       "\n",
       "    .dataframe tbody tr th {\n",
       "        vertical-align: top;\n",
       "    }\n",
       "\n",
       "    .dataframe thead th {\n",
       "        text-align: right;\n",
       "    }\n",
       "</style>\n",
       "<table border=\"1\" class=\"dataframe\">\n",
       "  <thead>\n",
       "    <tr style=\"text-align: right;\">\n",
       "      <th></th>\n",
       "      <th>total_deaths_per_million</th>\n",
       "      <th>gdp_per_capita</th>\n",
       "      <th>cvd_death_rate</th>\n",
       "      <th>health_expenditure_5y_avg</th>\n",
       "      <th>ghs_score</th>\n",
       "    </tr>\n",
       "  </thead>\n",
       "  <tbody>\n",
       "    <tr>\n",
       "      <th>count</th>\n",
       "      <td>167.000000</td>\n",
       "      <td>167.000000</td>\n",
       "      <td>167.000000</td>\n",
       "      <td>167.000000</td>\n",
       "      <td>167.000000</td>\n",
       "    </tr>\n",
       "    <tr>\n",
       "      <th>mean</th>\n",
       "      <td>58.542915</td>\n",
       "      <td>18895.411455</td>\n",
       "      <td>255.286431</td>\n",
       "      <td>6.438606</td>\n",
       "      <td>42.487425</td>\n",
       "    </tr>\n",
       "    <tr>\n",
       "      <th>std</th>\n",
       "      <td>127.824042</td>\n",
       "      <td>19731.262705</td>\n",
       "      <td>117.425408</td>\n",
       "      <td>2.514311</td>\n",
       "      <td>14.025206</td>\n",
       "    </tr>\n",
       "    <tr>\n",
       "      <th>min</th>\n",
       "      <td>0.000000</td>\n",
       "      <td>661.240000</td>\n",
       "      <td>79.370000</td>\n",
       "      <td>2.224253</td>\n",
       "      <td>16.200000</td>\n",
       "    </tr>\n",
       "    <tr>\n",
       "      <th>25%</th>\n",
       "      <td>2.416253</td>\n",
       "      <td>4504.151000</td>\n",
       "      <td>168.003000</td>\n",
       "      <td>4.438167</td>\n",
       "      <td>32.250000</td>\n",
       "    </tr>\n",
       "    <tr>\n",
       "      <th>50%</th>\n",
       "      <td>11.035901</td>\n",
       "      <td>12294.876000</td>\n",
       "      <td>240.208000</td>\n",
       "      <td>6.322619</td>\n",
       "      <td>39.900000</td>\n",
       "    </tr>\n",
       "    <tr>\n",
       "      <th>75%</th>\n",
       "      <td>41.307728</td>\n",
       "      <td>27012.304500</td>\n",
       "      <td>320.839500</td>\n",
       "      <td>8.120057</td>\n",
       "      <td>51.100000</td>\n",
       "    </tr>\n",
       "    <tr>\n",
       "      <th>max</th>\n",
       "      <td>848.052383</td>\n",
       "      <td>116935.600000</td>\n",
       "      <td>724.417000</td>\n",
       "      <td>16.795518</td>\n",
       "      <td>83.500000</td>\n",
       "    </tr>\n",
       "  </tbody>\n",
       "</table>\n",
       "</div>"
      ],
      "text/plain": [
       "       total_deaths_per_million  gdp_per_capita  cvd_death_rate  \\\n",
       "count                167.000000      167.000000      167.000000   \n",
       "mean                  58.542915    18895.411455      255.286431   \n",
       "std                  127.824042    19731.262705      117.425408   \n",
       "min                    0.000000      661.240000       79.370000   \n",
       "25%                    2.416253     4504.151000      168.003000   \n",
       "50%                   11.035901    12294.876000      240.208000   \n",
       "75%                   41.307728    27012.304500      320.839500   \n",
       "max                  848.052383   116935.600000      724.417000   \n",
       "\n",
       "       health_expenditure_5y_avg   ghs_score  \n",
       "count                 167.000000  167.000000  \n",
       "mean                    6.438606   42.487425  \n",
       "std                     2.514311   14.025206  \n",
       "min                     2.224253   16.200000  \n",
       "25%                     4.438167   32.250000  \n",
       "50%                     6.322619   39.900000  \n",
       "75%                     8.120057   51.100000  \n",
       "max                    16.795518   83.500000  "
      ]
     },
     "execution_count": 2,
     "metadata": {},
     "output_type": "execute_result"
    }
   ],
   "source": [
    "df = pd.read_csv(PATH_DATA_DEATHS)\n",
    "df_ghs = pd.read_csv(PATH_DATA_REDUCED).loc[:, [\"location\", \"ghs_score\"]]\n",
    "df = df.merge(df_ghs, how = 'left', on = ['location'])\n",
    "df.drop([\"total_deaths\"], axis=1, inplace=True)\n",
    "#df.drop([\"total_cases\"], axis=1, inplace=True)\n",
    "#df.dropna(inplace=True)\n",
    "df.describe()"
   ]
  },
  {
   "cell_type": "code",
   "execution_count": 4,
   "metadata": {
    "scrolled": false
   },
   "outputs": [
    {
     "data": {
      "text/plain": [
       "<matplotlib.collections.PathCollection at 0x16ad0b88108>"
      ]
     },
     "execution_count": 4,
     "metadata": {},
     "output_type": "execute_result"
    },
    {
     "data": {
      "image/png": "[encoded data removed]",
      "text/plain": [
       "<Figure size 504x504 with 1 Axes>"
      ]
     },
     "metadata": {
      "needs_background": "light"
     },
     "output_type": "display_data"
    }
   ],
   "source": [
    "fig, ax = plt.subplots(1, figsize=(7,7))\n",
    "ax.scatter(df[\"ghs_score\"].values, df[\"total_deaths_per_million\"].values)"
   ]
  },
  {
   "cell_type": "markdown",
   "metadata": {},
   "source": [
    "Actually we wanted to cluster the data, but this seems not possible based on the visualization.\n",
    "\n",
    "Countries with a low GHS Index may not be able to report valid numbers"
   ]
  }
 ],
 "metadata": {
  "kernelspec": {
   "display_name": "Python 3",
   "language": "python",
   "name": "python3"
  },
  "language_info": {
   "codemirror_mode": {
    "name": "ipython",
    "version": 3
   },
   "file_extension": ".py",
   "mimetype": "text/x-python",
   "name": "python",
   "nbconvert_exporter": "python",
   "pygments_lexer": "ipython3",
   "version": "3.7.7"
  }
 },
 "nbformat": 4,
 "nbformat_minor": 2
}
