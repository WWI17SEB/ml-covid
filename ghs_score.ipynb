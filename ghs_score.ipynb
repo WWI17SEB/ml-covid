{
 "cells": [
  {
   "cell_type": "markdown",
   "metadata": {},
   "source": [
    "# Compare GHS Index and Deaths\n",
    "\n",
    "GHS Index says how well prepared a country is for a pandemic so we wanted to compare that with the actual deaths."
   ]
  },
  {
   "cell_type": "code",
   "execution_count": 1,
   "metadata": {},
   "outputs": [],
   "source": [
    "import matplotlib.pyplot as plt\n",
    "import pandas as pd\n",
    "\n",
    "%matplotlib inline\n",
    "\n",
    "PATH_DATA_DEATHS = './data/computed/deaths.csv'\n",
    "PATH_DATA_CASES = './data/computed/cases.csv'\n",
    "PATH_DATA_REDUCED = './data/computed/collected_data_reduced_features.csv'"
   ]
  },
  {
   "cell_type": "code",
   "execution_count": 2,
   "metadata": {
    "scrolled": true
   },
   "outputs": [
    {
     "data": {
      "text/html": [
       "<div>\n",
       "<style scoped>\n",
       "    .dataframe tbody tr th:only-of-type {\n",
       "        vertical-align: middle;\n",
       "    }\n",
       "\n",
       "    .dataframe tbody tr th {\n",
       "        vertical-align: top;\n",
       "    }\n",
       "\n",
       "    .dataframe thead th {\n",
       "        text-align: right;\n",
       "    }\n",
       "</style>\n",
       "<table border=\"1\" class=\"dataframe\">\n",
       "  <thead>\n",
       "    <tr style=\"text-align: right;\">\n",
       "      <th></th>\n",
       "      <th>total_deaths_per_million</th>\n",
       "      <th>gdp_per_capita</th>\n",
       "      <th>cvd_death_rate</th>\n",
       "      <th>health_expenditure_5y_avg</th>\n",
       "      <th>ghs_score</th>\n",
       "    </tr>\n",
       "  </thead>\n",
       "  <tbody>\n",
       "    <tr>\n",
       "      <th>count</th>\n",
       "      <td>1.640000e+02</td>\n",
       "      <td>164.000000</td>\n",
       "      <td>164.000000</td>\n",
       "      <td>164.000000</td>\n",
       "      <td>164.000000</td>\n",
       "    </tr>\n",
       "    <tr>\n",
       "      <th>mean</th>\n",
       "      <td>5.942384e-11</td>\n",
       "      <td>18968.143451</td>\n",
       "      <td>255.914530</td>\n",
       "      <td>6.463602</td>\n",
       "      <td>42.773780</td>\n",
       "    </tr>\n",
       "    <tr>\n",
       "      <th>std</th>\n",
       "      <td>1.288110e-10</td>\n",
       "      <td>19893.399363</td>\n",
       "      <td>118.370568</td>\n",
       "      <td>2.530175</td>\n",
       "      <td>13.987614</td>\n",
       "    </tr>\n",
       "    <tr>\n",
       "      <th>min</th>\n",
       "      <td>0.000000e+00</td>\n",
       "      <td>661.240000</td>\n",
       "      <td>79.370000</td>\n",
       "      <td>2.224253</td>\n",
       "      <td>16.200000</td>\n",
       "    </tr>\n",
       "    <tr>\n",
       "      <th>25%</th>\n",
       "      <td>2.618273e-12</td>\n",
       "      <td>4406.787750</td>\n",
       "      <td>166.697500</td>\n",
       "      <td>4.406192</td>\n",
       "      <td>32.450000</td>\n",
       "    </tr>\n",
       "    <tr>\n",
       "      <th>50%</th>\n",
       "      <td>1.152598e-11</td>\n",
       "      <td>12265.791000</td>\n",
       "      <td>240.713500</td>\n",
       "      <td>6.331597</td>\n",
       "      <td>40.200000</td>\n",
       "    </tr>\n",
       "    <tr>\n",
       "      <th>75%</th>\n",
       "      <td>4.269378e-11</td>\n",
       "      <td>27341.795500</td>\n",
       "      <td>323.446250</td>\n",
       "      <td>8.156239</td>\n",
       "      <td>52.000000</td>\n",
       "    </tr>\n",
       "    <tr>\n",
       "      <th>max</th>\n",
       "      <td>8.480524e-10</td>\n",
       "      <td>116935.600000</td>\n",
       "      <td>724.417000</td>\n",
       "      <td>16.795518</td>\n",
       "      <td>83.500000</td>\n",
       "    </tr>\n",
       "  </tbody>\n",
       "</table>\n",
       "</div>"
      ],
      "text/plain": [
       "       total_deaths_per_million  gdp_per_capita  cvd_death_rate  \\\n",
       "count              1.640000e+02      164.000000      164.000000   \n",
       "mean               5.942384e-11    18968.143451      255.914530   \n",
       "std                1.288110e-10    19893.399363      118.370568   \n",
       "min                0.000000e+00      661.240000       79.370000   \n",
       "25%                2.618273e-12     4406.787750      166.697500   \n",
       "50%                1.152598e-11    12265.791000      240.713500   \n",
       "75%                4.269378e-11    27341.795500      323.446250   \n",
       "max                8.480524e-10   116935.600000      724.417000   \n",
       "\n",
       "       health_expenditure_5y_avg   ghs_score  \n",
       "count                 164.000000  164.000000  \n",
       "mean                    6.463602   42.773780  \n",
       "std                     2.530175   13.987614  \n",
       "min                     2.224253   16.200000  \n",
       "25%                     4.406192   32.450000  \n",
       "50%                     6.331597   40.200000  \n",
       "75%                     8.156239   52.000000  \n",
       "max                    16.795518   83.500000  "
      ]
     },
     "execution_count": 2,
     "metadata": {},
     "output_type": "execute_result"
    }
   ],
   "source": [
    "df = pd.read_csv(PATH_DATA_DEATHS)\n",
    "df_ghs = pd.read_csv(PATH_DATA_REDUCED).loc[:, [\"location\", \"ghs_score\"]]\n",
    "df = df.merge(df_ghs, how = 'left', on = ['location'])\n",
    "df.drop([\"total_deaths\", \"smokers_percentage\"], axis=1, inplace=True)\n",
    "#df.drop([\"total_cases\"], axis=1, inplace=True)\n",
    "#df.dropna(inplace=True)\n",
    "df.describe()"
   ]
  },
  {
   "cell_type": "code",
   "execution_count": 3,
   "metadata": {
    "scrolled": false
   },
   "outputs": [
    {
     "data": {
      "text/plain": [
       "<matplotlib.collections.PathCollection at 0x1c443ea54c8>"
      ]
     },
     "execution_count": 3,
     "metadata": {},
     "output_type": "execute_result"
    },
    {
     "data": {
      "image/png": "[encoded data removed]",
      "text/plain": [
       "<Figure size 720x720 with 1 Axes>"
      ]
     },
     "metadata": {
      "needs_background": "light"
     },
     "output_type": "display_data"
    }
   ],
   "source": [
    "fig, ax = plt.subplots(1, figsize=(10,10))\n",
    "ax.scatter(df[\"ghs_score\"].values, df[\"total_deaths_per_million\"].values)"
   ]
  },
  {
   "cell_type": "markdown",
   "metadata": {},
   "source": [
    "Actually we wanted to cluster the data, but this seems not possible based on the visualization.\n",
    "\n",
    "Countries with a low GHS Index may not be able to report valid numbers"
   ]
  }
 ],
 "metadata": {
  "kernelspec": {
   "display_name": "Python 3",
   "language": "python",
   "name": "python3"
  },
  "language_info": {
   "codemirror_mode": {
    "name": "ipython",
    "version": 3
   },
   "file_extension": ".py",
   "mimetype": "text/x-python",
   "name": "python",
   "nbconvert_exporter": "python",
   "pygments_lexer": "ipython3",
   "version": "3.7.7"
  }
 },
 "nbformat": 4,
 "nbformat_minor": 2
}
